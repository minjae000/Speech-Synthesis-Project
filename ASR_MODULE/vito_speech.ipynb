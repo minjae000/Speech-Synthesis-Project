{
 "cells": [
  {
   "cell_type": "code",
   "execution_count": 1,
   "metadata": {},
   "outputs": [
    {
     "ename": "ModuleNotFoundError",
     "evalue": "No module named 'requests'",
     "output_type": "error",
     "traceback": [
      "\u001b[0;31m---------------------------------------------------------------------------\u001b[0m",
      "\u001b[0;31mModuleNotFoundError\u001b[0m                       Traceback (most recent call last)",
      "Cell \u001b[0;32mIn[1], line 1\u001b[0m\n\u001b[0;32m----> 1\u001b[0m \u001b[39mimport\u001b[39;00m \u001b[39mrequests\u001b[39;00m\n\u001b[1;32m      3\u001b[0m resp \u001b[39m=\u001b[39m requests\u001b[39m.\u001b[39mpost(\n\u001b[1;32m      4\u001b[0m     \u001b[39m'\u001b[39m\u001b[39mhttps://openapi.vito.ai/v1/authenticate\u001b[39m\u001b[39m'\u001b[39m,\n\u001b[1;32m      5\u001b[0m     data\u001b[39m=\u001b[39m{\u001b[39m'\u001b[39m\u001b[39mclient_id\u001b[39m\u001b[39m'\u001b[39m: \u001b[39m'\u001b[39m\u001b[39mY6ytQsvOqDjUkMZPx2L6\u001b[39m\u001b[39m'\u001b[39m,\n\u001b[1;32m      6\u001b[0m           \u001b[39m'\u001b[39m\u001b[39mclient_secret\u001b[39m\u001b[39m'\u001b[39m: \u001b[39m'\u001b[39m\u001b[39mUiFff8NuW3xkDdqyHeI516qAkYjP3Eyx9fpWOkYx\u001b[39m\u001b[39m'\u001b[39m}\n\u001b[1;32m      7\u001b[0m )\n\u001b[1;32m      8\u001b[0m resp\u001b[39m.\u001b[39mraise_for_status()\n",
      "\u001b[0;31mModuleNotFoundError\u001b[0m: No module named 'requests'"
     ]
    }
   ],
   "source": [
    "import requests\n",
    "\n",
    "resp = requests.post(\n",
    "    'https://openapi.vito.ai/v1/authenticate',\n",
    "    data={'client_id': 'Y6ytQsvOqDjUkMZPx2L6',\n",
    "          'client_secret': 'UiFff8NuW3xkDdqyHeI516qAkYjP3Eyx9fpWOkYx'}\n",
    ")\n",
    "resp.raise_for_status()\n",
    "print(resp.json())"
   ]
  },
  {
   "cell_type": "code",
   "execution_count": null,
   "metadata": {},
   "outputs": [],
   "source": [
    "import json\n",
    "import requests\n",
    "\n",
    "config = {}\n",
    "resp = requests.post(\n",
    "    'https://openapi.vito.ai/v1/transcribe',\n",
    "    headers={'Authorization': 'bearer '+'{YOUR_JWT_TOKEN}'},\n",
    "    data={'config': json.dumps(config)},\n",
    "    files={'file': open('sample.wav', 'rb')}\n",
    ")\n",
    "resp.raise_for_status()\n",
    "print(resp.json())"
   ]
  },
  {
   "cell_type": "code",
   "execution_count": null,
   "metadata": {},
   "outputs": [],
   "source": [
    "import json\n",
    "import requests\n",
    "\n",
    "config = {\n",
    "  \"use_diarization\": True,\n",
    "  \"diarization\": {\n",
    "    \"spk_count\": 2\n",
    "  },\n",
    "  \"use_multi_channel\": False,\n",
    "  \"use_itn\": False,\n",
    "  \"use_disfluency_filter\": False,\n",
    "  \"use_profanity_filter\": False,\n",
    "  \"use_paragraph_splitter\": True,\n",
    "  \"paragraph_splitter\": {\n",
    "    \"max\": 50\n",
    "  }\n",
    "}\n",
    "resp = requests.post(\n",
    "    'https://openapi.vito.ai/v1/transcribe',\n",
    "    headers={'Authorization': 'bearer '+'{YOUR_JWT_TOKEN}'},\n",
    "    data={'config': json.dumps(config)},\n",
    "    files={'file': open('sample.wav', 'rb')}\n",
    ")\n",
    "resp.raise_for_status()\n",
    "print(resp.json())"
   ]
  },
  {
   "cell_type": "code",
   "execution_count": null,
   "metadata": {},
   "outputs": [],
   "source": [
    "import requests\n",
    "\n",
    "resp = requests.get(\n",
    "    'https://openapi.vito.ai/v1/transcribe/'+'{TRANSCRIBE_ID}',\n",
    "    headers={'Authorization': 'bearer '+'{YOUR_JWT_TOKEN}'},\n",
    ")\n",
    "resp.raise_for_status()\n",
    "print(resp.json())"
   ]
  }
 ],
 "metadata": {
  "kernelspec": {
   "display_name": "ASR",
   "language": "python",
   "name": "python3"
  },
  "language_info": {
   "codemirror_mode": {
    "name": "ipython",
    "version": 3
   },
   "file_extension": ".py",
   "mimetype": "text/x-python",
   "name": "python",
   "nbconvert_exporter": "python",
   "pygments_lexer": "ipython3",
   "version": "3.8.17"
  },
  "orig_nbformat": 4
 },
 "nbformat": 4,
 "nbformat_minor": 2
}
