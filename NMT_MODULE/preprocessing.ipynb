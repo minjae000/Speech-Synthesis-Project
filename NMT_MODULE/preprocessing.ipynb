{
 "cells": [
  {
   "cell_type": "code",
   "execution_count": 12,
   "metadata": {},
   "outputs": [],
   "source": [
    "with open(\"./data/test/test_prof.txt\")as f:\n",
    "    test_prof = f.readlines()\n",
    "original = list(map(lambda s: s.strip(), test_prof))"
   ]
  },
  {
   "cell_type": "code",
   "execution_count": 15,
   "metadata": {},
   "outputs": [],
   "source": [
    "testset = []\n",
    "processed = \"\"\n",
    "for elem in original:\n",
    "    processed += f\" {elem}\"\n",
    "    if processed.endswith((\".\", \"?\")):\n",
    "        testset.append(processed)\n",
    "        processed = \"\"\n",
    "    else:\n",
    "        continue"
   ]
  },
  {
   "cell_type": "code",
   "execution_count": null,
   "metadata": {},
   "outputs": [],
   "source": [
    "testset = list(map(lambda s: s.strip(), testset))\n",
    "testset"
   ]
  },
  {
   "cell_type": "code",
   "execution_count": 19,
   "metadata": {},
   "outputs": [],
   "source": [
    "with open(\"./data/test/test_preprocessed.txt\", 'w') as outfile:\n",
    "    for elem in testset:\n",
    "        outfile.write(f\"{elem}\\n\")"
   ]
  }
 ],
 "metadata": {
  "kernelspec": {
   "display_name": "nmt",
   "language": "python",
   "name": "python3"
  },
  "language_info": {
   "codemirror_mode": {
    "name": "ipython",
    "version": 3
   },
   "file_extension": ".py",
   "mimetype": "text/x-python",
   "name": "python",
   "nbconvert_exporter": "python",
   "pygments_lexer": "ipython3",
   "version": "3.11.4"
  },
  "orig_nbformat": 4
 },
 "nbformat": 4,
 "nbformat_minor": 2
}
